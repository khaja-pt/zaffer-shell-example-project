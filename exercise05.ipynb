{
 "cells": [
  {
   "cell_type": "markdown",
   "id": "55a48e68",
   "metadata": {},
   "source": [
    "# Exercise 5\n",
    "\n",
    "Read the PDF correponding to analyse the content of the text (e.g. Number of words, word frequency, sentiment of the text,sentiment over the time)"
   ]
  },
  {
   "cell_type": "code",
   "execution_count": null,
   "id": "37f12a37",
   "metadata": {},
   "outputs": [],
   "source": [
    "# install pdfminer.six\n",
    "#!pip install pdfminer.six"
   ]
  },
  {
   "cell_type": "code",
   "execution_count": null,
   "id": "bd6dbb93",
   "metadata": {},
   "outputs": [],
   "source": [
    "from pdfminer import high_level\n",
    "\n",
    "local_pdf_filename = \"text.pdf\"\n",
    "pages = [0] # just the first page\n",
    "\n",
    "extracted_text = high_level.extract_text(local_pdf_filename, \"\", pages)\n",
    "print(extracted_text)"
   ]
  },
  {
   "cell_type": "code",
   "execution_count": null,
   "id": "5c4522a7",
   "metadata": {},
   "outputs": [],
   "source": []
  }
 ],
 "metadata": {
  "kernelspec": {
   "display_name": "Python 3 (ipykernel)",
   "language": "python",
   "name": "python3"
  },
  "language_info": {
   "codemirror_mode": {
    "name": "ipython",
    "version": 3
   },
   "file_extension": ".py",
   "mimetype": "text/x-python",
   "name": "python",
   "nbconvert_exporter": "python",
   "pygments_lexer": "ipython3",
   "version": "3.8.12"
  }
 },
 "nbformat": 4,
 "nbformat_minor": 5
}
